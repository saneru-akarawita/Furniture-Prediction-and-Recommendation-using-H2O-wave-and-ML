{
 "cells": [
  {
   "cell_type": "code",
   "execution_count": 1,
   "metadata": {},
   "outputs": [],
   "source": [
    "import os\n",
    "import cv2\n",
    "import numpy as np\n",
    "from tensorflow.keras.utils import to_categorical"
   ]
  },
  {
   "cell_type": "code",
   "execution_count": 2,
   "metadata": {},
   "outputs": [],
   "source": [
    "data_dir = './Image_data/'\n",
    "interior_types = ['Bohemian', 'Coastal', 'Industrial', 'Scandinavian']"
   ]
  },
  {
   "cell_type": "code",
   "execution_count": 3,
   "metadata": {},
   "outputs": [],
   "source": [
    "def preprocess_images(data_dir, interior_types, image_size):\n",
    "    X_data = []\n",
    "    y_data = []\n",
    "    \n",
    "    for interior_type_id, interior_type in enumerate(interior_types):\n",
    "        interior_type_path = os.path.join(data_dir, interior_type)\n",
    "        for img_name in os.listdir(interior_type_path):\n",
    "            img_path = os.path.join(interior_type_path, img_name)\n",
    "            img = cv2.imread(img_path)\n",
    "            if img is None:\n",
    "                print(f\"Failed to load image: {img_path}\")\n",
    "                continue\n",
    "            \n",
    "            img = cv2.cvtColor(img, cv2.COLOR_BGR2RGB)\n",
    "            img = cv2.resize(img, image_size)\n",
    "            img = img.astype(np.float32) / 255.0  # Normalize pixel values to [0, 1]\n",
    "            X_data.append(img)\n",
    "            y_data.append(interior_type_id)\n",
    "    \n",
    "    X_data = np.array(X_data)\n",
    "    y_data = np.array(y_data)\n",
    "    y_data = to_categorical(y_data, num_classes=len(interior_types))  # One-hot encode the labels\n",
    "    \n",
    "    return X_data, y_data\n"
   ]
  },
  {
   "cell_type": "code",
   "execution_count": 4,
   "metadata": {},
   "outputs": [],
   "source": [
    "image_size = (224, 224)"
   ]
  },
  {
   "cell_type": "code",
   "execution_count": 5,
   "metadata": {},
   "outputs": [],
   "source": [
    "X_data, y_data = preprocess_images(data_dir, interior_types, image_size)"
   ]
  },
  {
   "cell_type": "code",
   "execution_count": 6,
   "metadata": {},
   "outputs": [],
   "source": [
    "import numpy as np\n",
    "from tensorflow.keras.models import Sequential\n",
    "from tensorflow.keras.layers import Conv2D, MaxPooling2D, Flatten, Dense, Dropout\n",
    "from tensorflow.keras.optimizers import Adam"
   ]
  },
  {
   "cell_type": "code",
   "execution_count": 7,
   "metadata": {},
   "outputs": [],
   "source": [
    "from sklearn.model_selection import train_test_split\n",
    "X_train, X_val, y_train, y_val = train_test_split(X_data, y_data, test_size=0.2, random_state=42)"
   ]
  },
  {
   "cell_type": "code",
   "execution_count": 8,
   "metadata": {},
   "outputs": [],
   "source": [
    "model = Sequential()\n",
    "model.add(Conv2D(32, (3, 3), activation='relu', input_shape=(image_size[0], image_size[1], 3)))\n",
    "model.add(MaxPooling2D((2, 2)))\n",
    "model.add(Conv2D(64, (3, 3), activation='relu'))\n",
    "model.add(MaxPooling2D((2, 2)))\n",
    "model.add(Conv2D(128, (3, 3), activation='relu'))\n",
    "model.add(MaxPooling2D((2, 2)))\n",
    "model.add(Flatten())\n",
    "model.add(Dense(256, activation='relu'))\n",
    "model.add(Dropout(0.5))\n",
    "model.add(Dense(len(interior_types), activation='softmax'))"
   ]
  },
  {
   "cell_type": "code",
   "execution_count": 9,
   "metadata": {},
   "outputs": [],
   "source": [
    "model.compile(optimizer=Adam(), loss='categorical_crossentropy', metrics=['accuracy'])"
   ]
  },
  {
   "cell_type": "code",
   "execution_count": 10,
   "metadata": {},
   "outputs": [],
   "source": [
    "batch_size = 32\n",
    "epochs = 10"
   ]
  },
  {
   "cell_type": "code",
   "execution_count": 11,
   "metadata": {},
   "outputs": [
    {
     "name": "stdout",
     "output_type": "stream",
     "text": [
      "Epoch 1/10\n",
      "45/45 [==============================] - 89s 2s/step - loss: 1.5348 - accuracy: 0.3756 - val_loss: 1.0112 - val_accuracy: 0.5042\n",
      "Epoch 2/10\n",
      "45/45 [==============================] - 80s 2s/step - loss: 0.9748 - accuracy: 0.5567 - val_loss: 0.8448 - val_accuracy: 0.6225\n",
      "Epoch 3/10\n",
      "45/45 [==============================] - 80s 2s/step - loss: 0.9498 - accuracy: 0.5814 - val_loss: 0.9399 - val_accuracy: 0.5606\n",
      "Epoch 4/10\n",
      "45/45 [==============================] - 83s 2s/step - loss: 0.8030 - accuracy: 0.6540 - val_loss: 0.7421 - val_accuracy: 0.6901\n",
      "Epoch 5/10\n",
      "45/45 [==============================] - 80s 2s/step - loss: 0.6973 - accuracy: 0.7047 - val_loss: 0.7881 - val_accuracy: 0.6648\n",
      "Epoch 6/10\n",
      "45/45 [==============================] - 80s 2s/step - loss: 0.5962 - accuracy: 0.7632 - val_loss: 0.7541 - val_accuracy: 0.6676\n",
      "Epoch 7/10\n",
      "45/45 [==============================] - 80s 2s/step - loss: 0.4738 - accuracy: 0.8168 - val_loss: 0.7755 - val_accuracy: 0.6732\n",
      "Epoch 8/10\n",
      "45/45 [==============================] - 80s 2s/step - loss: 0.3410 - accuracy: 0.8739 - val_loss: 0.8582 - val_accuracy: 0.6648\n",
      "Epoch 9/10\n",
      "45/45 [==============================] - 78s 2s/step - loss: 0.2285 - accuracy: 0.9133 - val_loss: 0.9937 - val_accuracy: 0.6817\n",
      "Epoch 10/10\n",
      "45/45 [==============================] - 84s 2s/step - loss: 0.1816 - accuracy: 0.9331 - val_loss: 1.0980 - val_accuracy: 0.6592\n"
     ]
    }
   ],
   "source": [
    "history = model.fit(X_train, y_train, batch_size=batch_size, epochs=epochs, validation_data=(X_val, y_val))"
   ]
  },
  {
   "cell_type": "code",
   "execution_count": null,
   "metadata": {},
   "outputs": [],
   "source": [
    "model.save('interior_type_model.h5')"
   ]
  }
 ],
 "metadata": {
  "kernelspec": {
   "display_name": "interior",
   "language": "python",
   "name": "python3"
  },
  "language_info": {
   "codemirror_mode": {
    "name": "ipython",
    "version": 3
   },
   "file_extension": ".py",
   "mimetype": "text/x-python",
   "name": "python",
   "nbconvert_exporter": "python",
   "pygments_lexer": "ipython3",
   "version": "3.10.11"
  },
  "orig_nbformat": 4
 },
 "nbformat": 4,
 "nbformat_minor": 2
}
